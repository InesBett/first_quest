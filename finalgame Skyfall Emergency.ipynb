{
 "cells": [
  {
   "cell_type": "code",
   "execution_count": 1,
   "id": "330948cc-c033-478c-b9f1-90e3b46d5092",
   "metadata": {},
   "outputs": [
    {
     "name": "stdout",
     "output_type": "stream",
     "text": [
      "{'current_room': 'cockpit', 'keys_collected': [], 'target_room': 'galley'}\n"
     ]
    }
   ],
   "source": [
    "all_rooms = [\"galley\", \"cockpit\", \"cabin\"]\n",
    "\n",
    "galley = {\"name\": \"galley\", \"type\": \"room\"}\n",
    "\n",
    "water = {\"name\": \"water\", \"type\": \"tool\", \"target\": \"steward\"}\n",
    "\n",
    "fire_extinguisher = {\n",
    "    \"name\": \"fire extinguisher\", \n",
    "    \"type\": \"tool\", \n",
    "    \"target\": \"cockpit door\"\n",
    "}\n",
    "\n",
    "steward = {\"name\": \"steward\", \"type\": \"person\"}\n",
    "\n",
    "\n",
    "object_relations = {\n",
    "    \"galley\": [steward, fire_extinguisher],\n",
    "    \"steward\": [],  \n",
    "    \"cockpit\": [],  \n",
    "    \"cabin\": [water]\n",
    "}\n",
    "inventory = []\n",
    "\n",
    "INIT_GAME_STATE = {\n",
    "    \"current_room\": \"cockpit\",\n",
    "    \"keys_collected\": [],\n",
    "    \"target_room\": \"galley\"\n",
    "}\n",
    "\n",
    "print(INIT_GAME_STATE)\n",
    "\n",
    "def linebreak():\n",
    "    \"\"\"\n",
    "    Print a line break\n",
    "    \"\"\"\n",
    "    print(\"\\n\\n\")\n",
    "\n",
    "import sys\n",
    "import time\n",
    "\n",
    "def print_slow(text):\n",
    "    for letter in text:\n",
    "        sys.stdout.write(letter)\n",
    "        sys.stdout.flush()\n",
    "        time.sleep(0.02)"
   ]
  },
  {
   "cell_type": "code",
   "execution_count": 2,
   "id": "2c5fabae-4fbf-4c27-9cb5-8fda5db84417",
   "metadata": {},
   "outputs": [],
   "source": [
    "\n",
    "import datetime\n",
    "\n",
    "import threading\n",
    "\n",
    "import sys\n",
    "\n",
    "stop_event = threading.Event()\n",
    "\n",
    "def countdown():\n",
    "    seconds = 180\n",
    "    while seconds > 0:\n",
    "        if stop_event.is_set():\n",
    "            time.sleep(1000)\n",
    "            \n",
    "        timer = datetime.timedelta(seconds=seconds)\n",
    "        print(timer, end=\"\\r\")\n",
    "    \n",
    "        time.sleep(1)\n",
    "    \n",
    "        seconds -= 1\n",
    "\n",
    "    print('''\n",
    " ██████   █████  ███    ███ ███████      ██████  ██    ██ ███████ ██████  \n",
    "██       ██   ██ ████  ████ ██          ██    ██ ██    ██ ██      ██   ██ \n",
    "██   ███ ███████ ██ ████ ██ █████       ██    ██ ██    ██ █████   ██████  \n",
    "██    ██ ██   ██ ██  ██  ██ ██          ██    ██  ██  ██  ██      ██   ██ \n",
    " ██████  ██   ██ ██      ██ ███████      ██████    ████   ███████ ██   ██ ''')\n",
    "    \n",
    "    \n",
    "\n",
    "def start_cockpit():\n",
    "    print(\"\\nLocation = Cockpit Door.\\n\")\n",
    "    if \"fire extinguisher\" not in inventory:\n",
    "         action = input(\"To try open the door, type 'break'.\\n\\nTo enter a pincode, type 'code'.\\n\\nTo move to the galley, type 'back'.\\n\").lower().strip()\n",
    "    else:\n",
    "        action = input(\"To try open the door with the fire extinguisher, type 'break'.\\nTo enter a pincode, type 'code'.\\n\\nTo move to the galley, type 'back'.\\n\").lower().strip()\n",
    "    \n",
    "    if action == \"break\":\n",
    "        smash_door() if \"fire extinguisher\" not in inventory else smash_door_fire_extinguisher()\n",
    "    elif action == \"code\":\n",
    "        enter_code()\n",
    "    elif action == \"back\":\n",
    "        enter_galley()\n",
    "    else:\n",
    "        print(\"\\nInvalid action.\\n\")\n",
    "        start_cockpit()\n",
    "\n",
    "def player_ready():\n",
    "    action = input(\"\\n\\nType 'Ready' to continue.\").strip().lower()\n",
    "    while action != \"ready\":\n",
    "        action = input(\"\\nInvalid input.\\n\")\n",
    "    \n",
    "    thread = threading.Thread(target=countdown)\n",
    "    thread.start()    \n",
    "    start_cockpit()\n",
    "    \n",
    "def smash_door():\n",
    "    print(\"\\nThe door doesn’t budge!\\n\")\n",
    "    start_cockpit()\n",
    "\n",
    "def smash_door_fire_extinguisher():\n",
    "    print(\"\\nThe door holds firm.\\n\")\n",
    "    start_cockpit()\n",
    "\n",
    "def enter_code():\n",
    "    try:\n",
    "        code = int(input(\"\\nType in the code: \\n\"))\n",
    "        if code == 7189:\n",
    "            stop_event.set()\n",
    "            print_slow(\"\\nThe door opens!\\n\\nYou rush to the controls.\\n\\nThe altimeter ticking down fast.\\n\\nYou pull back on the yoke.\\n\\nCongratulations! You won the game!\")\n",
    "        else:\n",
    "            print(\"\\nThe code isn’t working.\\n\")\n",
    "            start_cockpit()\n",
    "    except ValueError:\n",
    "        print(\"Invalid input.\")\n",
    "        start_cockpit()"
   ]
  },
  {
   "cell_type": "code",
   "execution_count": 3,
   "id": "6f932ffd-d644-46c9-8854-ff46b32c78a2",
   "metadata": {},
   "outputs": [],
   "source": [
    "def enter_galley():\n",
    "    print(\"\\nLocation = galley.\\n\")\n",
    "    galley_menu()\n",
    "\n",
    "def galley_menu():\n",
    "    action = input(\"\\nType 'search' to investigate.\\n\\nType 'forward' to move to the cockpit door.\\n\\nType 'back' to move to the cabin.\\n\").lower().strip()\n",
    "    if action == \"search\":\n",
    "        investigate_galley()\n",
    "    elif action == \"forward\":\n",
    "        start_cockpit()\n",
    "    elif action == \"back\":\n",
    "        start_cabin() \n",
    "    else:\n",
    "        print(\"\\nInvalid action.\\n\")\n",
    "        galley_menu()\n",
    "\n",
    "def investigate_galley():\n",
    "    if \"fire extinguisher\" not in inventory:\n",
    "        print(\"\\nOh no! You find the steward lying unconscious!\\n\\nYou also found a fire extinguisher\\n\")\n",
    "        action_2 = input(\"\\nTo wake up the steward, type 'revive'.\\n\\nTo pick up the fire extinguisher, type 'collect'./n\").strip().lower()\n",
    "        if action_2 == \"revive\":\n",
    "            revive_steward()\n",
    "        elif action_2 == \"collect\":\n",
    "            collect_extinguisher()\n",
    "        else:\n",
    "            print(\"\\nInvalid action.\\n\")\n",
    "            investigate_galley()\n",
    "    else:\n",
    "        print(\"\\nThe steward lying unconscious.\\n\")\n",
    "        action_2 = input(\"\\nTo wake up the steward, type 'revive'.\\n\")\n",
    "        if action_2 == \"revive\":\n",
    "            revive_steward()\n",
    "\n",
    "def collect_extinguisher():\n",
    "        print(\"\\nYou pick up the fire extinguisher.\\n\\nMaybe you can use this to get into the cockpit...\\n\")\n",
    "        inventory.append(\"fire extinguisher\")\n",
    "        galley_menu()\n",
    "\n",
    "def revive_steward():\n",
    "    if \"water\" in inventory:\n",
    "        print(\"\\nYou splash the water on his face.\\n\\nHe wakes up and tells you the pincode: 7189.\\n\")\n",
    "    else:\n",
    "        print(\"\\nHe doesn't wake up.\\n\")\n",
    "    galley_menu()"
   ]
  },
  {
   "cell_type": "code",
   "execution_count": 4,
   "id": "d053ecd3-581c-4bea-9418-2956cdfe8f04",
   "metadata": {},
   "outputs": [],
   "source": [
    "def start_cabin():\n",
    "    print(\"\\nLocation = cabin.\\n\")\n",
    "    action = input(\"\\nType 'search' to investigate.\\n\\nType 'forward' to move to the galley.\\n\").lower().strip()\n",
    "    if action == \"search\":\n",
    "        investigate_cabin()\n",
    "    elif action == \"forward\":\n",
    "        enter_galley()\n",
    "    else:\n",
    "        print(\"\\nInvalid action.\\n\")\n",
    "        start_cabin()\n",
    "\n",
    "def investigate_cabin():\n",
    "    if \"water\" not in inventory:\n",
    "        print(\"\\nYou found a bottle of water.\\n\")\n",
    "        action_1 = input(\"\\nTo pick it up, type 'collect'.\\n\").strip().lower()\n",
    "        if action_1 == \"collect\":\n",
    "            print(\"\\nYou pick up the water.\\n\")\n",
    "            inventory.append(\"water\")\n",
    "            start_cabin()\n",
    "        else:\n",
    "            print(\"\\nInvalid action.\\n\")\n",
    "            start_cabin()\n",
    "    else:\n",
    "        print(\"\\nThere's nothing else here.\\n\")\n",
    "        start_cabin()"
   ]
  },
  {
   "cell_type": "code",
   "execution_count": 5,
   "id": "8898db3f-58b8-4d7c-9255-f03b736aac4b",
   "metadata": {},
   "outputs": [],
   "source": [
    "def start_game():\n",
    "    print('''\n",
    " ▗▄▄▖▗▖ ▗▖▗▖  ▗▖▗▄▄▄▖ ▗▄▖ ▗▖   ▗▖       ▗▄▄▄▖▗▖  ▗▖▗▄▄▄▖▗▄▄▖  ▗▄▄▖▗▄▄▄▖▗▖  ▗▖ ▗▄▄▖▗▖  ▗▖\n",
    "▐▌   ▐▌▗▞▘ ▝▚▞▘ ▐▌   ▐▌ ▐▌▐▌   ▐▌       ▐▌   ▐▛▚▞▜▌▐▌   ▐▌ ▐▌▐▌   ▐▌   ▐▛▚▖▐▌▐▌    ▝▚▞▘ \n",
    " ▝▀▚▖▐▛▚▖   ▐▌  ▐▛▀▀▘▐▛▀▜▌▐▌   ▐▌       ▐▛▀▀▘▐▌  ▐▌▐▛▀▀▘▐▛▀▚▖▐▌▝▜▌▐▛▀▀▘▐▌ ▝▜▌▐▌     ▐▌  \n",
    "▗▄▄▞▘▐▌ ▐▌  ▐▌  ▐▌   ▐▌ ▐▌▐▙▄▄▖▐▙▄▄▖    ▐▙▄▄▖▐▌  ▐▌▐▙▄▄▖▐▌ ▐▌▝▚▄▞▘▐▙▄▄▖▐▌  ▐▌▝▚▄▄▖  ▐▌  \n",
    "                                      |\n",
    "                                --====|====--\n",
    "                                      |\n",
    "\n",
    "                                  .-\"\"\"\"\"-.\n",
    "                                .'_________'.\n",
    "                               [_|_|__|__|_|_]\n",
    "                              ;'-._       _.-';\n",
    "         ,--------------------|    `-. .-'    |--------------------,\n",
    "          ``\"\"--..__    ___   ;       '       ;   ___    __..--\"\"``\n",
    "                   `\"-|| ||.._|               |..|| ||-\"`\n",
    "                      || ||    '._         _.'   || ||\n",
    "                       `\"`        ``-----``       `\"`\n",
    "''')\n",
    "    print_slow(\"You are flying over the Pacific Ocean.\\n\\nSuddenly, the plane shakes violently!\\n\\nPassengers are thrown everywhere.\\n\\nThe oxygen masks drop.\\n\\nBut the pilot is strangely quiet…\\n\\nYou run to the cockpit and find him unconscious.\\n\\nNo one is driving the plane!\\n\\nThe cockpit door is locked.\\n\\nYou don’t have much time.\\n\\nThe lives of everyone onboard are in your hands…\")\n",
    "\n",
    "    player_ready()\n",
    "\n",
    "    \n",
    "    "
   ]
  },
  {
   "cell_type": "code",
   "execution_count": 6,
   "id": "a2c1e10e-e46f-4d31-828c-e3e2d5aa88ce",
   "metadata": {},
   "outputs": [
    {
     "name": "stdout",
     "output_type": "stream",
     "text": [
      "\n",
      " ▗▄▄▖▗▖ ▗▖▗▖  ▗▖▗▄▄▄▖ ▗▄▖ ▗▖   ▗▖       ▗▄▄▄▖▗▖  ▗▖▗▄▄▄▖▗▄▄▖  ▗▄▄▖▗▄▄▄▖▗▖  ▗▖ ▗▄▄▖▗▖  ▗▖\n",
      "▐▌   ▐▌▗▞▘ ▝▚▞▘ ▐▌   ▐▌ ▐▌▐▌   ▐▌       ▐▌   ▐▛▚▞▜▌▐▌   ▐▌ ▐▌▐▌   ▐▌   ▐▛▚▖▐▌▐▌    ▝▚▞▘ \n",
      " ▝▀▚▖▐▛▚▖   ▐▌  ▐▛▀▀▘▐▛▀▜▌▐▌   ▐▌       ▐▛▀▀▘▐▌  ▐▌▐▛▀▀▘▐▛▀▚▖▐▌▝▜▌▐▛▀▀▘▐▌ ▝▜▌▐▌     ▐▌  \n",
      "▗▄▄▞▘▐▌ ▐▌  ▐▌  ▐▌   ▐▌ ▐▌▐▙▄▄▖▐▙▄▄▖    ▐▙▄▄▖▐▌  ▐▌▐▙▄▄▖▐▌ ▐▌▝▚▄▞▘▐▙▄▄▖▐▌  ▐▌▝▚▄▄▖  ▐▌  \n",
      "                                      |\n",
      "                                --====|====--\n",
      "                                      |\n",
      "\n",
      "                                  .-\"\"\"\"\"-.\n",
      "                                .'_________'.\n",
      "                               [_|_|__|__|_|_]\n",
      "                              ;'-._       _.-';\n",
      "         ,--------------------|    `-. .-'    |--------------------,\n",
      "          ``\"\"--..__    ___   ;       '       ;   ___    __..--\"\"``\n",
      "                   `\"-|| ||.._|               |..|| ||-\"`\n",
      "                      || ||    '._         _.'   || ||\n",
      "                       `\"`        ``-----``       `\"`\n",
      "\n",
      "You are flying over the Pacific Ocean.\n",
      "\n",
      "Suddenly, the plane shakes violently!\n",
      "\n",
      "Passengers are thrown everywhere.\n",
      "\n",
      "The oxygen masks drop.\n",
      "\n",
      "But the pilot is strangely quiet…\n",
      "\n",
      "You run to the cockpit and find him unconscious.\n",
      "\n",
      "No one is driving the plane!\n",
      "\n",
      "The cockpit door is locked.\n",
      "\n",
      "You don’t have much time.\n",
      "\n",
      "The lives of everyone onboard are in your hands…"
     ]
    },
    {
     "name": "stdin",
     "output_type": "stream",
     "text": [
      "\n",
      "\n",
      "Type 'Ready' to continue. ready\n"
     ]
    },
    {
     "name": "stdout",
     "output_type": "stream",
     "text": [
      "0:03:00\n",
      "Location = Cockpit Door.\n",
      "\n",
      "0:02:45\r"
     ]
    },
    {
     "name": "stdin",
     "output_type": "stream",
     "text": [
      "To try open the door, type 'break'.\n",
      "\n",
      "To enter a pincode, type 'code'.\n",
      "\n",
      "To move to the galley, type 'back'.\n",
      " break\n"
     ]
    },
    {
     "name": "stdout",
     "output_type": "stream",
     "text": [
      "\n",
      "The door doesn’t budge!\n",
      "\n",
      "\n",
      "Location = Cockpit Door.\n",
      "\n",
      "0:02:37\r"
     ]
    },
    {
     "name": "stdin",
     "output_type": "stream",
     "text": [
      "To try open the door, type 'break'.\n",
      "\n",
      "To enter a pincode, type 'code'.\n",
      "\n",
      "To move to the galley, type 'back'.\n",
      " back\n"
     ]
    },
    {
     "name": "stdout",
     "output_type": "stream",
     "text": [
      "\n",
      "Location = galley.\n",
      "\n",
      "0:02:25\r"
     ]
    },
    {
     "name": "stdin",
     "output_type": "stream",
     "text": [
      "\n",
      "Type 'search' to investigate.\n",
      "\n",
      "Type 'forward' to move to the cockpit door.\n",
      "\n",
      "Type 'back' to move to the cabin.\n",
      " search\n"
     ]
    },
    {
     "name": "stdout",
     "output_type": "stream",
     "text": [
      "\n",
      "Oh no! You find the steward lying unconscious!\n",
      "\n",
      "You also found a fire extinguisher\n",
      "\n",
      "0:02:16\r"
     ]
    },
    {
     "name": "stdin",
     "output_type": "stream",
     "text": [
      "\n",
      "To wake up the steward, type 'revive'.\n",
      "\n",
      "To pick up the fire extinguisher, type 'collect'./n collect\n"
     ]
    },
    {
     "name": "stdout",
     "output_type": "stream",
     "text": [
      "\n",
      "You pick up the fire extinguisher.\n",
      "\n",
      "Maybe you can use this to get into the cockpit...\n",
      "\n",
      "0:02:05\r"
     ]
    },
    {
     "name": "stdin",
     "output_type": "stream",
     "text": [
      "\n",
      "Type 'search' to investigate.\n",
      "\n",
      "Type 'forward' to move to the cockpit door.\n",
      "\n",
      "Type 'back' to move to the cabin.\n",
      " back\n"
     ]
    },
    {
     "name": "stdout",
     "output_type": "stream",
     "text": [
      "\n",
      "Location = cabin.\n",
      "\n",
      "0:01:55\r"
     ]
    },
    {
     "name": "stdin",
     "output_type": "stream",
     "text": [
      "\n",
      "Type 'search' to investigate.\n",
      "\n",
      "Type 'forward' to move to the galley.\n",
      " search\n"
     ]
    },
    {
     "name": "stdout",
     "output_type": "stream",
     "text": [
      "0:01:54\n",
      "You found a bottle of water.\n",
      "\n",
      "0:01:48\r"
     ]
    },
    {
     "name": "stdin",
     "output_type": "stream",
     "text": [
      "\n",
      "To pick it up, type 'collect'.\n",
      " collect\n"
     ]
    },
    {
     "name": "stdout",
     "output_type": "stream",
     "text": [
      "\n",
      "You pick up the water.\n",
      "\n",
      "\n",
      "Location = cabin.\n",
      "\n",
      "0:01:42\r"
     ]
    },
    {
     "name": "stdin",
     "output_type": "stream",
     "text": [
      "\n",
      "Type 'search' to investigate.\n",
      "\n",
      "Type 'forward' to move to the galley.\n",
      " forward\n"
     ]
    },
    {
     "name": "stdout",
     "output_type": "stream",
     "text": [
      "\n",
      "Location = galley.\n",
      "\n",
      "0:01:37\r"
     ]
    },
    {
     "name": "stdin",
     "output_type": "stream",
     "text": [
      "\n",
      "Type 'search' to investigate.\n",
      "\n",
      "Type 'forward' to move to the cockpit door.\n",
      "\n",
      "Type 'back' to move to the cabin.\n",
      " search\n"
     ]
    },
    {
     "name": "stdout",
     "output_type": "stream",
     "text": [
      "\n",
      "The steward lying unconscious.\n",
      "\n",
      "0:01:27\r"
     ]
    },
    {
     "name": "stdin",
     "output_type": "stream",
     "text": [
      "\n",
      "To wake up the steward, type 'revive'.\n",
      " revive\n"
     ]
    },
    {
     "name": "stdout",
     "output_type": "stream",
     "text": [
      "0:01:26\n",
      "You splash the water on his face.\n",
      "\n",
      "He wakes up and tells you the pincode: 7189.\n",
      "\n",
      "0:01:17\r"
     ]
    },
    {
     "name": "stdin",
     "output_type": "stream",
     "text": [
      "\n",
      "Type 'search' to investigate.\n",
      "\n",
      "Type 'forward' to move to the cockpit door.\n",
      "\n",
      "Type 'back' to move to the cabin.\n",
      " forward\n"
     ]
    },
    {
     "name": "stdout",
     "output_type": "stream",
     "text": [
      "0:01:16\n",
      "Location = Cockpit Door.\n",
      "\n",
      "0:01:15\r"
     ]
    },
    {
     "name": "stdin",
     "output_type": "stream",
     "text": [
      "To try open the door with the fire extinguisher, type 'break'.\n",
      "To enter a pincode, type 'code'.\n",
      "\n",
      "To move to the galley, type 'back'.\n",
      " code\n"
     ]
    },
    {
     "name": "stdout",
     "output_type": "stream",
     "text": [
      "0:01:12\r"
     ]
    },
    {
     "name": "stdin",
     "output_type": "stream",
     "text": [
      "\n",
      "Type in the code: \n",
      " 7189\n"
     ]
    },
    {
     "name": "stdout",
     "output_type": "stream",
     "text": [
      "\n",
      "The door opens!\n",
      "\n",
      "You rush to the controls.\n",
      "\n",
      "The altimeter ticking down fast.\n",
      "\n",
      "You pull back on the yoke.\n",
      "\n",
      "Congratulations! You won the game!"
     ]
    }
   ],
   "source": [
    "start_game()"
   ]
  }
 ],
 "metadata": {
  "kernelspec": {
   "display_name": "Python 3 (ipykernel)",
   "language": "python",
   "name": "python3"
  },
  "language_info": {
   "codemirror_mode": {
    "name": "ipython",
    "version": 3
   },
   "file_extension": ".py",
   "mimetype": "text/x-python",
   "name": "python",
   "nbconvert_exporter": "python",
   "pygments_lexer": "ipython3",
   "version": "3.11.7"
  }
 },
 "nbformat": 4,
 "nbformat_minor": 5
}
